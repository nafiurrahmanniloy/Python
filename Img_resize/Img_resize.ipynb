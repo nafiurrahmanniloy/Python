{
 "cells": [
  {
   "cell_type": "code",
   "execution_count": 1,
   "id": "69091eb1-01fa-4f86-9f64-24a30f974cbe",
   "metadata": {},
   "outputs": [],
   "source": [
    "import cv2"
   ]
  },
  {
   "cell_type": "code",
   "execution_count": 3,
   "id": "d6834270-5241-4270-8935-d5d29cf6d658",
   "metadata": {},
   "outputs": [],
   "source": [
    "img=cv2.imread('img/test.jpg')"
   ]
  },
  {
   "cell_type": "code",
   "execution_count": 5,
   "id": "d14811a0-2c55-4195-808d-2e20fbe62d5a",
   "metadata": {},
   "outputs": [
    {
     "data": {
      "text/plain": [
       "(2129, 1603, 3)"
      ]
     },
     "execution_count": 5,
     "metadata": {},
     "output_type": "execute_result"
    }
   ],
   "source": [
    "img.shape"
   ]
  },
  {
   "cell_type": "code",
   "execution_count": 7,
   "id": "b80a38fb-7e44-4bdf-b1c1-b15d8e204fd6",
   "metadata": {},
   "outputs": [],
   "source": [
    "cv2.imshow(\"image\", img)"
   ]
  },
  {
   "cell_type": "code",
   "execution_count": 13,
   "id": "ac0acaa4-7555-4123-87b3-f17658ff9365",
   "metadata": {},
   "outputs": [],
   "source": [
    "img_resize =cv2.resize(img,(img.shape[1]//2,img.shape[0]//2 ))  #making the image half of the main img."
   ]
  },
  {
   "cell_type": "code",
   "execution_count": 15,
   "id": "ec076267-75e4-472c-9b6b-f5cfe5a9fb1e",
   "metadata": {},
   "outputs": [],
   "source": [
    "cv2.imshow('window',img_resize)"
   ]
  },
  {
   "cell_type": "code",
   "execution_count": 17,
   "id": "2ad8dfd8-eb3e-459f-8277-ad367ac7fef0",
   "metadata": {},
   "outputs": [
    {
     "name": "stdout",
     "output_type": "stream",
     "text": [
      "(1064, 801, 3)\n"
     ]
    }
   ],
   "source": [
    "print(img_resize.shape)"
   ]
  },
  {
   "cell_type": "code",
   "execution_count": 19,
   "id": "2e0e2f8b-02ed-40c4-8432-f6bcb078f486",
   "metadata": {},
   "outputs": [
    {
     "data": {
      "text/plain": [
       "-1"
      ]
     },
     "execution_count": 19,
     "metadata": {},
     "output_type": "execute_result"
    }
   ],
   "source": [
    "cv2.waitKey(0)"
   ]
  },
  {
   "cell_type": "code",
   "execution_count": null,
   "id": "b1b5cec4-2acd-4c31-9122-a3e7ee443f44",
   "metadata": {},
   "outputs": [],
   "source": []
  }
 ],
 "metadata": {
  "kernelspec": {
   "display_name": "Python 3 (ipykernel)",
   "language": "python",
   "name": "python3"
  },
  "language_info": {
   "codemirror_mode": {
    "name": "ipython",
    "version": 3
   },
   "file_extension": ".py",
   "mimetype": "text/x-python",
   "name": "python",
   "nbconvert_exporter": "python",
   "pygments_lexer": "ipython3",
   "version": "3.12.7"
  }
 },
 "nbformat": 4,
 "nbformat_minor": 5
}
